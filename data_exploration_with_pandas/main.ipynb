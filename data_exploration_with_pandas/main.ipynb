{
 "cells": [
  {
   "cell_type": "code",
   "execution_count": 10,
   "metadata": {},
   "outputs": [
    {
     "data": {
      "text/plain": [
       "(51, 6)"
      ]
     },
     "execution_count": 10,
     "metadata": {},
     "output_type": "execute_result"
    }
   ],
   "source": [
    "import pandas as pd\n",
    "df = pd.read_csv('salaries_by_college_major.csv')\n",
    "df.head()\n",
    "df.shape"
   ]
  },
  {
   "cell_type": "code",
   "execution_count": 11,
   "metadata": {},
   "outputs": [
    {
     "data": {
      "text/plain": [
       "Index(['Undergraduate Major', 'Starting Median Salary',\n",
       "       'Mid-Career Median Salary', 'Mid-Career 10th Percentile Salary',\n",
       "       'Mid-Career 90th Percentile Salary', 'Group'],\n",
       "      dtype='object')"
      ]
     },
     "execution_count": 11,
     "metadata": {},
     "output_type": "execute_result"
    }
   ],
   "source": [
    "df.columns"
   ]
  },
  {
   "cell_type": "code",
   "execution_count": 12,
   "metadata": {},
   "outputs": [
    {
     "data": {
      "text/html": [
       "<div>\n",
       "<style scoped>\n",
       "    .dataframe tbody tr th:only-of-type {\n",
       "        vertical-align: middle;\n",
       "    }\n",
       "\n",
       "    .dataframe tbody tr th {\n",
       "        vertical-align: top;\n",
       "    }\n",
       "\n",
       "    .dataframe thead th {\n",
       "        text-align: right;\n",
       "    }\n",
       "</style>\n",
       "<table border=\"1\" class=\"dataframe\">\n",
       "  <thead>\n",
       "    <tr style=\"text-align: right;\">\n",
       "      <th></th>\n",
       "      <th>Undergraduate Major</th>\n",
       "      <th>Starting Median Salary</th>\n",
       "      <th>Mid-Career Median Salary</th>\n",
       "      <th>Mid-Career 10th Percentile Salary</th>\n",
       "      <th>Mid-Career 90th Percentile Salary</th>\n",
       "      <th>Group</th>\n",
       "    </tr>\n",
       "  </thead>\n",
       "  <tbody>\n",
       "    <tr>\n",
       "      <th>46</th>\n",
       "      <td>Psychology</td>\n",
       "      <td>35900.0</td>\n",
       "      <td>60400.0</td>\n",
       "      <td>31600.0</td>\n",
       "      <td>127000.0</td>\n",
       "      <td>HASS</td>\n",
       "    </tr>\n",
       "    <tr>\n",
       "      <th>47</th>\n",
       "      <td>Religion</td>\n",
       "      <td>34100.0</td>\n",
       "      <td>52000.0</td>\n",
       "      <td>29700.0</td>\n",
       "      <td>96400.0</td>\n",
       "      <td>HASS</td>\n",
       "    </tr>\n",
       "    <tr>\n",
       "      <th>48</th>\n",
       "      <td>Sociology</td>\n",
       "      <td>36500.0</td>\n",
       "      <td>58200.0</td>\n",
       "      <td>30700.0</td>\n",
       "      <td>118000.0</td>\n",
       "      <td>HASS</td>\n",
       "    </tr>\n",
       "    <tr>\n",
       "      <th>49</th>\n",
       "      <td>Spanish</td>\n",
       "      <td>34000.0</td>\n",
       "      <td>53100.0</td>\n",
       "      <td>31000.0</td>\n",
       "      <td>96400.0</td>\n",
       "      <td>HASS</td>\n",
       "    </tr>\n",
       "    <tr>\n",
       "      <th>50</th>\n",
       "      <td>Source: PayScale Inc.</td>\n",
       "      <td>NaN</td>\n",
       "      <td>NaN</td>\n",
       "      <td>NaN</td>\n",
       "      <td>NaN</td>\n",
       "      <td>NaN</td>\n",
       "    </tr>\n",
       "  </tbody>\n",
       "</table>\n",
       "</div>"
      ],
      "text/plain": [
       "      Undergraduate Major  Starting Median Salary  Mid-Career Median Salary  \\\n",
       "46             Psychology                 35900.0                   60400.0   \n",
       "47               Religion                 34100.0                   52000.0   \n",
       "48              Sociology                 36500.0                   58200.0   \n",
       "49                Spanish                 34000.0                   53100.0   \n",
       "50  Source: PayScale Inc.                     NaN                       NaN   \n",
       "\n",
       "    Mid-Career 10th Percentile Salary  Mid-Career 90th Percentile Salary Group  \n",
       "46                            31600.0                           127000.0  HASS  \n",
       "47                            29700.0                            96400.0  HASS  \n",
       "48                            30700.0                           118000.0  HASS  \n",
       "49                            31000.0                            96400.0  HASS  \n",
       "50                                NaN                                NaN   NaN  "
      ]
     },
     "execution_count": 12,
     "metadata": {},
     "output_type": "execute_result"
    }
   ],
   "source": [
    "df.tail()"
   ]
  },
  {
   "cell_type": "code",
   "execution_count": 13,
   "metadata": {},
   "outputs": [],
   "source": [
    "clean_df = df.dropna()"
   ]
  },
  {
   "cell_type": "code",
   "execution_count": 14,
   "metadata": {},
   "outputs": [
    {
     "data": {
      "text/html": [
       "<div>\n",
       "<style scoped>\n",
       "    .dataframe tbody tr th:only-of-type {\n",
       "        vertical-align: middle;\n",
       "    }\n",
       "\n",
       "    .dataframe tbody tr th {\n",
       "        vertical-align: top;\n",
       "    }\n",
       "\n",
       "    .dataframe thead th {\n",
       "        text-align: right;\n",
       "    }\n",
       "</style>\n",
       "<table border=\"1\" class=\"dataframe\">\n",
       "  <thead>\n",
       "    <tr style=\"text-align: right;\">\n",
       "      <th></th>\n",
       "      <th>Undergraduate Major</th>\n",
       "      <th>Starting Median Salary</th>\n",
       "      <th>Mid-Career Median Salary</th>\n",
       "      <th>Mid-Career 10th Percentile Salary</th>\n",
       "      <th>Mid-Career 90th Percentile Salary</th>\n",
       "      <th>Group</th>\n",
       "    </tr>\n",
       "  </thead>\n",
       "  <tbody>\n",
       "    <tr>\n",
       "      <th>45</th>\n",
       "      <td>Political Science</td>\n",
       "      <td>40800.0</td>\n",
       "      <td>78200.0</td>\n",
       "      <td>41200.0</td>\n",
       "      <td>168000.0</td>\n",
       "      <td>HASS</td>\n",
       "    </tr>\n",
       "    <tr>\n",
       "      <th>46</th>\n",
       "      <td>Psychology</td>\n",
       "      <td>35900.0</td>\n",
       "      <td>60400.0</td>\n",
       "      <td>31600.0</td>\n",
       "      <td>127000.0</td>\n",
       "      <td>HASS</td>\n",
       "    </tr>\n",
       "    <tr>\n",
       "      <th>47</th>\n",
       "      <td>Religion</td>\n",
       "      <td>34100.0</td>\n",
       "      <td>52000.0</td>\n",
       "      <td>29700.0</td>\n",
       "      <td>96400.0</td>\n",
       "      <td>HASS</td>\n",
       "    </tr>\n",
       "    <tr>\n",
       "      <th>48</th>\n",
       "      <td>Sociology</td>\n",
       "      <td>36500.0</td>\n",
       "      <td>58200.0</td>\n",
       "      <td>30700.0</td>\n",
       "      <td>118000.0</td>\n",
       "      <td>HASS</td>\n",
       "    </tr>\n",
       "    <tr>\n",
       "      <th>49</th>\n",
       "      <td>Spanish</td>\n",
       "      <td>34000.0</td>\n",
       "      <td>53100.0</td>\n",
       "      <td>31000.0</td>\n",
       "      <td>96400.0</td>\n",
       "      <td>HASS</td>\n",
       "    </tr>\n",
       "  </tbody>\n",
       "</table>\n",
       "</div>"
      ],
      "text/plain": [
       "   Undergraduate Major  Starting Median Salary  Mid-Career Median Salary  \\\n",
       "45   Political Science                 40800.0                   78200.0   \n",
       "46          Psychology                 35900.0                   60400.0   \n",
       "47            Religion                 34100.0                   52000.0   \n",
       "48           Sociology                 36500.0                   58200.0   \n",
       "49             Spanish                 34000.0                   53100.0   \n",
       "\n",
       "    Mid-Career 10th Percentile Salary  Mid-Career 90th Percentile Salary Group  \n",
       "45                            41200.0                           168000.0  HASS  \n",
       "46                            31600.0                           127000.0  HASS  \n",
       "47                            29700.0                            96400.0  HASS  \n",
       "48                            30700.0                           118000.0  HASS  \n",
       "49                            31000.0                            96400.0  HASS  "
      ]
     },
     "execution_count": 14,
     "metadata": {},
     "output_type": "execute_result"
    }
   ],
   "source": [
    "clean_df.tail()"
   ]
  },
  {
   "cell_type": "code",
   "execution_count": null,
   "metadata": {},
   "outputs": [],
   "source": []
  },
  {
   "cell_type": "code",
   "execution_count": 15,
   "metadata": {},
   "outputs": [
    {
     "data": {
      "text/plain": [
       "0     46000.0\n",
       "1     57700.0\n",
       "2     42600.0\n",
       "3     36800.0\n",
       "4     41600.0\n",
       "5     35800.0\n",
       "6     38800.0\n",
       "7     43000.0\n",
       "8     63200.0\n",
       "9     42600.0\n",
       "10    53900.0\n",
       "11    38100.0\n",
       "12    61400.0\n",
       "13    55900.0\n",
       "14    53700.0\n",
       "15    35000.0\n",
       "16    35900.0\n",
       "17    50100.0\n",
       "18    34900.0\n",
       "19    60900.0\n",
       "20    38000.0\n",
       "21    37900.0\n",
       "22    47900.0\n",
       "23    39100.0\n",
       "24    41200.0\n",
       "25    43500.0\n",
       "26    35700.0\n",
       "27    38800.0\n",
       "28    39200.0\n",
       "29    37800.0\n",
       "30    57700.0\n",
       "31    49100.0\n",
       "32    36100.0\n",
       "33    40900.0\n",
       "34    35600.0\n",
       "35    49200.0\n",
       "36    40800.0\n",
       "37    45400.0\n",
       "38    57900.0\n",
       "39    35900.0\n",
       "40    54200.0\n",
       "41    39900.0\n",
       "42    39900.0\n",
       "43    74300.0\n",
       "44    50300.0\n",
       "45    40800.0\n",
       "46    35900.0\n",
       "47    34100.0\n",
       "48    36500.0\n",
       "49    34000.0\n",
       "Name: Starting Median Salary, dtype: float64"
      ]
     },
     "execution_count": 15,
     "metadata": {},
     "output_type": "execute_result"
    }
   ],
   "source": [
    "clean_df['Starting Median Salary']"
   ]
  },
  {
   "cell_type": "code",
   "execution_count": null,
   "metadata": {},
   "outputs": [],
   "source": []
  },
  {
   "cell_type": "code",
   "execution_count": 16,
   "metadata": {},
   "outputs": [
    {
     "data": {
      "text/plain": [
       "74300.0"
      ]
     },
     "execution_count": 16,
     "metadata": {},
     "output_type": "execute_result"
    }
   ],
   "source": [
    "clean_df['Starting Median Salary'].max()"
   ]
  },
  {
   "cell_type": "code",
   "execution_count": 17,
   "metadata": {},
   "outputs": [
    {
     "data": {
      "text/plain": [
       "43"
      ]
     },
     "execution_count": 17,
     "metadata": {},
     "output_type": "execute_result"
    }
   ],
   "source": [
    "clean_df['Starting Median Salary'].idxmax()"
   ]
  },
  {
   "cell_type": "code",
   "execution_count": 18,
   "metadata": {},
   "outputs": [
    {
     "data": {
      "text/plain": [
       "'Physician Assistant'"
      ]
     },
     "execution_count": 18,
     "metadata": {},
     "output_type": "execute_result"
    }
   ],
   "source": [
    "clean_df['Undergraduate Major'].loc[43]"
   ]
  },
  {
   "cell_type": "code",
   "execution_count": 19,
   "metadata": {},
   "outputs": [
    {
     "data": {
      "text/plain": [
       "'Physician Assistant'"
      ]
     },
     "execution_count": 19,
     "metadata": {},
     "output_type": "execute_result"
    }
   ],
   "source": [
    "clean_df['Undergraduate Major'][43]"
   ]
  },
  {
   "cell_type": "code",
   "execution_count": 21,
   "metadata": {},
   "outputs": [
    {
     "data": {
      "text/plain": [
       "Undergraduate Major                  Physician Assistant\n",
       "Starting Median Salary                           74300.0\n",
       "Mid-Career Median Salary                         91700.0\n",
       "Mid-Career 10th Percentile Salary                66400.0\n",
       "Mid-Career 90th Percentile Salary               124000.0\n",
       "Group                                               STEM\n",
       "Name: 43, dtype: object"
      ]
     },
     "execution_count": 21,
     "metadata": {},
     "output_type": "execute_result"
    }
   ],
   "source": [
    "# To get entire row\n",
    "clean_df.loc[43]"
   ]
  },
  {
   "cell_type": "code",
   "execution_count": 25,
   "metadata": {},
   "outputs": [
    {
     "data": {
      "text/plain": [
       "8"
      ]
     },
     "execution_count": 25,
     "metadata": {},
     "output_type": "execute_result"
    }
   ],
   "source": [
    "clean_df['Mid-Career Median Salary'].idxmax()"
   ]
  },
  {
   "cell_type": "code",
   "execution_count": 27,
   "metadata": {},
   "outputs": [
    {
     "data": {
      "text/plain": [
       "Undergraduate Major                  Chemical Engineering\n",
       "Starting Median Salary                            63200.0\n",
       "Mid-Career Median Salary                         107000.0\n",
       "Mid-Career 10th Percentile Salary                 71900.0\n",
       "Mid-Career 90th Percentile Salary                194000.0\n",
       "Group                                                STEM\n",
       "Name: 8, dtype: object"
      ]
     },
     "execution_count": 27,
     "metadata": {},
     "output_type": "execute_result"
    }
   ],
   "source": [
    "clean_df.loc[8]"
   ]
  },
  {
   "cell_type": "code",
   "execution_count": 29,
   "metadata": {},
   "outputs": [
    {
     "data": {
      "text/plain": [
       "'Spanish'"
      ]
     },
     "execution_count": 29,
     "metadata": {},
     "output_type": "execute_result"
    }
   ],
   "source": [
    "clean_df['Undergraduate Major'].loc[clean_df['Starting Median Salary'].idxmin()]"
   ]
  },
  {
   "cell_type": "code",
   "execution_count": 30,
   "metadata": {},
   "outputs": [
    {
     "data": {
      "text/plain": [
       "0     109800.0\n",
       "1      96700.0\n",
       "2     113700.0\n",
       "3     104200.0\n",
       "4      85400.0\n",
       "5      96200.0\n",
       "6      98100.0\n",
       "7     108200.0\n",
       "8     122100.0\n",
       "9     102700.0\n",
       "10     84600.0\n",
       "11    105500.0\n",
       "12     95900.0\n",
       "13     98000.0\n",
       "14    114700.0\n",
       "15     74800.0\n",
       "16    116300.0\n",
       "17    159400.0\n",
       "18     72700.0\n",
       "19     98700.0\n",
       "20     99600.0\n",
       "21    102100.0\n",
       "22    147800.0\n",
       "23     70000.0\n",
       "24     92000.0\n",
       "25    111000.0\n",
       "26     76000.0\n",
       "27     66400.0\n",
       "28    112000.0\n",
       "29     88500.0\n",
       "30    115900.0\n",
       "31     84500.0\n",
       "32     71300.0\n",
       "33    118800.0\n",
       "34    106600.0\n",
       "35    100700.0\n",
       "36    132900.0\n",
       "37    137800.0\n",
       "38     99300.0\n",
       "39    107300.0\n",
       "40     50700.0\n",
       "41     65300.0\n",
       "42    132500.0\n",
       "43     57600.0\n",
       "44    122000.0\n",
       "45    126800.0\n",
       "46     95400.0\n",
       "47     66700.0\n",
       "48     87300.0\n",
       "49     65400.0\n",
       "dtype: float64"
      ]
     },
     "execution_count": 30,
     "metadata": {},
     "output_type": "execute_result"
    }
   ],
   "source": [
    "# Lowest Risk Majors\n",
    "clean_df['Mid-Career 90th Percentile Salary'] - clean_df['Mid-Career 10th Percentile Salary']"
   ]
  },
  {
   "cell_type": "code",
   "execution_count": 31,
   "metadata": {},
   "outputs": [
    {
     "data": {
      "text/html": [
       "<div>\n",
       "<style scoped>\n",
       "    .dataframe tbody tr th:only-of-type {\n",
       "        vertical-align: middle;\n",
       "    }\n",
       "\n",
       "    .dataframe tbody tr th {\n",
       "        vertical-align: top;\n",
       "    }\n",
       "\n",
       "    .dataframe thead th {\n",
       "        text-align: right;\n",
       "    }\n",
       "</style>\n",
       "<table border=\"1\" class=\"dataframe\">\n",
       "  <thead>\n",
       "    <tr style=\"text-align: right;\">\n",
       "      <th></th>\n",
       "      <th>Undergraduate Major</th>\n",
       "      <th>Spread</th>\n",
       "      <th>Starting Median Salary</th>\n",
       "      <th>Mid-Career Median Salary</th>\n",
       "      <th>Mid-Career 10th Percentile Salary</th>\n",
       "      <th>Mid-Career 90th Percentile Salary</th>\n",
       "      <th>Group</th>\n",
       "    </tr>\n",
       "  </thead>\n",
       "  <tbody>\n",
       "    <tr>\n",
       "      <th>0</th>\n",
       "      <td>Accounting</td>\n",
       "      <td>109800.0</td>\n",
       "      <td>46000.0</td>\n",
       "      <td>77100.0</td>\n",
       "      <td>42200.0</td>\n",
       "      <td>152000.0</td>\n",
       "      <td>Business</td>\n",
       "    </tr>\n",
       "    <tr>\n",
       "      <th>1</th>\n",
       "      <td>Aerospace Engineering</td>\n",
       "      <td>96700.0</td>\n",
       "      <td>57700.0</td>\n",
       "      <td>101000.0</td>\n",
       "      <td>64300.0</td>\n",
       "      <td>161000.0</td>\n",
       "      <td>STEM</td>\n",
       "    </tr>\n",
       "    <tr>\n",
       "      <th>2</th>\n",
       "      <td>Agriculture</td>\n",
       "      <td>113700.0</td>\n",
       "      <td>42600.0</td>\n",
       "      <td>71900.0</td>\n",
       "      <td>36300.0</td>\n",
       "      <td>150000.0</td>\n",
       "      <td>Business</td>\n",
       "    </tr>\n",
       "    <tr>\n",
       "      <th>3</th>\n",
       "      <td>Anthropology</td>\n",
       "      <td>104200.0</td>\n",
       "      <td>36800.0</td>\n",
       "      <td>61500.0</td>\n",
       "      <td>33800.0</td>\n",
       "      <td>138000.0</td>\n",
       "      <td>HASS</td>\n",
       "    </tr>\n",
       "    <tr>\n",
       "      <th>4</th>\n",
       "      <td>Architecture</td>\n",
       "      <td>85400.0</td>\n",
       "      <td>41600.0</td>\n",
       "      <td>76800.0</td>\n",
       "      <td>50600.0</td>\n",
       "      <td>136000.0</td>\n",
       "      <td>Business</td>\n",
       "    </tr>\n",
       "  </tbody>\n",
       "</table>\n",
       "</div>"
      ],
      "text/plain": [
       "     Undergraduate Major    Spread  Starting Median Salary  \\\n",
       "0             Accounting  109800.0                 46000.0   \n",
       "1  Aerospace Engineering   96700.0                 57700.0   \n",
       "2            Agriculture  113700.0                 42600.0   \n",
       "3           Anthropology  104200.0                 36800.0   \n",
       "4           Architecture   85400.0                 41600.0   \n",
       "\n",
       "   Mid-Career Median Salary  Mid-Career 10th Percentile Salary  \\\n",
       "0                   77100.0                            42200.0   \n",
       "1                  101000.0                            64300.0   \n",
       "2                   71900.0                            36300.0   \n",
       "3                   61500.0                            33800.0   \n",
       "4                   76800.0                            50600.0   \n",
       "\n",
       "   Mid-Career 90th Percentile Salary     Group  \n",
       "0                           152000.0  Business  \n",
       "1                           161000.0      STEM  \n",
       "2                           150000.0  Business  \n",
       "3                           138000.0      HASS  \n",
       "4                           136000.0  Business  "
      ]
     },
     "execution_count": 31,
     "metadata": {},
     "output_type": "execute_result"
    }
   ],
   "source": [
    "# adding difference in a new column caleed 'spread'\n",
    "spread_col = clean_df['Mid-Career 90th Percentile Salary'] - clean_df['Mid-Career 10th Percentile Salary']\n",
    "clean_df.insert(1, 'Spread', spread_col)\n",
    "clean_df.head()"
   ]
  },
  {
   "cell_type": "code",
   "execution_count": 33,
   "metadata": {},
   "outputs": [
    {
     "data": {
      "text/html": [
       "<div>\n",
       "<style scoped>\n",
       "    .dataframe tbody tr th:only-of-type {\n",
       "        vertical-align: middle;\n",
       "    }\n",
       "\n",
       "    .dataframe tbody tr th {\n",
       "        vertical-align: top;\n",
       "    }\n",
       "\n",
       "    .dataframe thead th {\n",
       "        text-align: right;\n",
       "    }\n",
       "</style>\n",
       "<table border=\"1\" class=\"dataframe\">\n",
       "  <thead>\n",
       "    <tr style=\"text-align: right;\">\n",
       "      <th></th>\n",
       "      <th>Undergraduate Major</th>\n",
       "      <th>Spread</th>\n",
       "    </tr>\n",
       "  </thead>\n",
       "  <tbody>\n",
       "    <tr>\n",
       "      <th>40</th>\n",
       "      <td>Nursing</td>\n",
       "      <td>50700.0</td>\n",
       "    </tr>\n",
       "    <tr>\n",
       "      <th>43</th>\n",
       "      <td>Physician Assistant</td>\n",
       "      <td>57600.0</td>\n",
       "    </tr>\n",
       "    <tr>\n",
       "      <th>41</th>\n",
       "      <td>Nutrition</td>\n",
       "      <td>65300.0</td>\n",
       "    </tr>\n",
       "    <tr>\n",
       "      <th>49</th>\n",
       "      <td>Spanish</td>\n",
       "      <td>65400.0</td>\n",
       "    </tr>\n",
       "    <tr>\n",
       "      <th>27</th>\n",
       "      <td>Health Care Administration</td>\n",
       "      <td>66400.0</td>\n",
       "    </tr>\n",
       "  </tbody>\n",
       "</table>\n",
       "</div>"
      ],
      "text/plain": [
       "           Undergraduate Major   Spread\n",
       "40                     Nursing  50700.0\n",
       "43         Physician Assistant  57600.0\n",
       "41                   Nutrition  65300.0\n",
       "49                     Spanish  65400.0\n",
       "27  Health Care Administration  66400.0"
      ]
     },
     "execution_count": 33,
     "metadata": {},
     "output_type": "execute_result"
    }
   ],
   "source": [
    "# Sorting by the Lowest Spread\n",
    "low_risk = clean_df.sort_values('Spread')\n",
    "low_risk[['Undergraduate Major', 'Spread']].head()"
   ]
  }
 ],
 "metadata": {
  "kernelspec": {
   "display_name": "Python 3 (ipykernel)",
   "language": "python",
   "name": "python3"
  },
  "language_info": {
   "codemirror_mode": {
    "name": "ipython",
    "version": 3
   },
   "file_extension": ".py",
   "mimetype": "text/x-python",
   "name": "python",
   "nbconvert_exporter": "python",
   "pygments_lexer": "ipython3",
   "version": "3.8.5"
  }
 },
 "nbformat": 4,
 "nbformat_minor": 1
}
